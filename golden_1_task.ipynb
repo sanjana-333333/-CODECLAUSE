{
  "cells": [
    {
      "cell_type": "markdown",
      "metadata": {
        "id": "view-in-github",
        "colab_type": "text"
      },
      "source": [
        "<a href=\"https://colab.research.google.com/github/sanjana-333333/-CODECLAUSE/blob/main/golden_1_task.ipynb\" target=\"_parent\"><img src=\"https://colab.research.google.com/assets/colab-badge.svg\" alt=\"Open In Colab\"/></a>"
      ]
    },
    {
      "cell_type": "code",
      "execution_count": null,
      "metadata": {
        "colab": {
          "background_save": true,
          "base_uri": "https://localhost:8080/"
        },
        "id": "gRK7--UA8iOW",
        "outputId": "78bb50bb-2477-4a10-b2d3-c3be726b90f4"
      },
      "outputs": [
        {
          "name": "stdout",
          "output_type": "stream",
          "text": [
            " * Serving Flask app '__main__'\n",
            " * Debug mode: on\n"
          ]
        },
        {
          "name": "stderr",
          "output_type": "stream",
          "text": [
            "INFO:werkzeug:\u001b[31m\u001b[1mWARNING: This is a development server. Do not use it in a production deployment. Use a production WSGI server instead.\u001b[0m\n",
            " * Running on http://127.0.0.1:5000\n",
            "INFO:werkzeug:\u001b[33mPress CTRL+C to quit\u001b[0m\n",
            "INFO:werkzeug: * Restarting with stat\n"
          ]
        }
      ],
      "source": [
        "import random\n",
        "import string\n",
        "from flask import Flask, request, redirect\n",
        "\n",
        "app = Flask(__name__)\n",
        "\n",
        "# Database to store shortened URLs and their corresponding original URLs\n",
        "url_database = {}\n",
        "\n",
        "def generate_short_url():\n",
        "    return ''.join(random.choices(string.ascii_letters + string.digits, k=6))\n",
        "\n",
        "@app.route('/')\n",
        "def index():\n",
        "    return 'Welcome to URL shortening service'\n",
        "\n",
        "@app.route('/shorten', methods=['POST'])\n",
        "def shorten_url():\n",
        "    original_url = request.form.get('url')\n",
        "    short_url = generate_short_url()\n",
        "    url_database[short_url] = original_url\n",
        "    return f'Shortened URL: {request.host_url}{short_url}'\n",
        "\n",
        "@app.route('/<short_url>')\n",
        "def redirect_to_original(short_url):\n",
        "    original_url = url_database.get(short_url)\n",
        "    if original_url:\n",
        "        # Log the click here for analytics\n",
        "        return redirect(original_url)\n",
        "    else:\n",
        "        return 'URL not found', 404\n",
        "\n",
        "if __name__ == '__main__':\n",
        "    app.run(debug=True)\n"
      ]
    }
  ],
  "metadata": {
    "colab": {
      "provenance": [],
      "authorship_tag": "ABX9TyPUYzvHvMs13h2Vq5wmOT70",
      "include_colab_link": true
    },
    "kernelspec": {
      "display_name": "Python 3",
      "name": "python3"
    },
    "language_info": {
      "name": "python"
    }
  },
  "nbformat": 4,
  "nbformat_minor": 0
}