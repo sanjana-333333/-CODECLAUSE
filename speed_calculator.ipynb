{
  "nbformat": 4,
  "nbformat_minor": 0,
  "metadata": {
    "colab": {
      "provenance": [],
      "authorship_tag": "ABX9TyMjA1rCoVoTYrNh00JIaI3g",
      "include_colab_link": true
    },
    "kernelspec": {
      "name": "python3",
      "display_name": "Python 3"
    },
    "language_info": {
      "name": "python"
    }
  },
  "cells": [
    {
      "cell_type": "markdown",
      "metadata": {
        "id": "view-in-github",
        "colab_type": "text"
      },
      "source": [
        "<a href=\"https://colab.research.google.com/github/sanjana-333333/-CODECLAUSE/blob/main/speed_calculator.ipynb\" target=\"_parent\"><img src=\"https://colab.research.google.com/assets/colab-badge.svg\" alt=\"Open In Colab\"/></a>"
      ]
    },
    {
      "cell_type": "code",
      "execution_count": null,
      "metadata": {
        "colab": {
          "base_uri": "https://localhost:8080/"
        },
        "id": "DvbTkTRp49AM",
        "outputId": "fd70a372-40e1-4656-8d78-e1fe301c479f"
      },
      "outputs": [
        {
          "output_type": "stream",
          "name": "stdout",
          "text": [
            "Type the following sentence:\n",
            "The quick brown fox jumps over the lazy dog.\n",
            "Press Enter when you are ready to start typing...\n",
            "Type the sentence: iam sanjana i am good at python\n",
            "\n",
            "Time taken: 12.65 seconds\n",
            "Typing speed: 33.19 WPM\n",
            "Accuracy: 2.27%\n"
          ]
        }
      ],
      "source": [
        "import time\n",
        "\n",
        "def calculate_typing_speed(words_typed, time_taken):\n",
        "    words_per_minute = (words_typed / time_taken) * 60\n",
        "    return words_per_minute\n",
        "\n",
        "def main():\n",
        "    prompt = \"The quick brown fox jumps over the lazy dog.\"\n",
        "    print(\"Type the following sentence:\")\n",
        "    print(prompt)\n",
        "    input(\"Press Enter when you are ready to start typing...\")\n",
        "\n",
        "    start_time = time.time()\n",
        "    typed_text = input(\"Type the sentence: \")\n",
        "    end_time = time.time()\n",
        "\n",
        "    time_taken = end_time - start_time\n",
        "\n",
        "    typed_words = len(typed_text.split())\n",
        "    typing_speed = calculate_typing_speed(typed_words, time_taken)\n",
        "\n",
        "    accuracy = (sum(a == b for a, b in zip(prompt, typed_text)) / len(prompt)) * 100\n",
        "\n",
        "    print(\"\\nTime taken: {:.2f} seconds\".format(time_taken))\n",
        "    print(\"Typing speed: {:.2f} WPM\".format(typing_speed))\n",
        "    print(\"Accuracy: {:.2f}%\".format(accuracy))\n",
        "\n",
        "if __name__ == \"__main__\":\n",
        "    main()\n"
      ]
    }
  ]
}